{
 "cells": [
  {
   "cell_type": "markdown",
   "id": "8fa3a383-f415-4073-953f-141131323fe9",
   "metadata": {},
   "source": [
    "# NLP (Natural Language Processing)"
   ]
  },
  {
   "cell_type": "markdown",
   "id": "5da83660-76e2-4d22-ba37-62e6dae8551f",
   "metadata": {},
   "source": [
    "<img src=\"https://media.licdn.com/dms/image/D4E12AQGzlyXJosFAlQ/article-cover_image-shrink_720_1280/0/1721788592731?e=2147483647&amp;v=beta&amp;t=Ai3DzewDJkZ_t1oUGi0ljAW31A7WnjFmW4gpCz81ZFs\" jsaction=\"\" class=\"sFlh5c FyHeAf iPVvYb\" style=\"max-width: 720px; height: 351px; margin: 0px; width: 351px;\" alt=\"Building Blocks of Brilliance: Essential NLP Libraries for Every Task\" jsname=\"kn3ccd\" aria-hidden=\"false\">"
   ]
  },
  {
   "cell_type": "markdown",
   "id": "0efdd968-9e92-4a28-90ad-7d0f7ae3e287",
   "metadata": {},
   "source": [
    "- Natural Language Processing (NLP) is a branch of Artificial Intelligence (AI) focused on enabling computers to understand, interpret, and generate human language. It’s essential for applications like voice recognition, machine translation, and sentiment analysis, allowing machines to process textual data in a meaningful way."
   ]
  },
  {
   "cell_type": "markdown",
   "id": "db7dd6c5-22cd-427c-9453-363831929733",
   "metadata": {},
   "source": [
    "**Key Points with Brief Explanation:**"
   ]
  },
  {
   "cell_type": "markdown",
   "id": "f3c94a3d-9c95-4edd-aa0e-4abde7bba540",
   "metadata": {},
   "source": [
    "- **Tokenization:** Splitting text into smaller units, like words or sentences, to process text in manageable pieces.\n",
    "\n",
    "- **Sentence Tokenization:** Divides text into sentences.\n",
    "\n",
    "- **Character Tokenization:** Splits text into characters.\n",
    "\n",
    "- **Subword Tokenization:** Breaks words into meaningful subunits.\n",
    "\n",
    "- **Paragraph Tokenization:** Splits text into paragraphs.\n",
    "\n",
    "- **White Space Tokenization:** Splits based on white spaces only.\n",
    "\n",
    "- **Regular Expression Tokenization:** Custom tokenization using regex patterns.\n",
    "\n",
    "- **WordPiece Tokenization:** Subword tokenization using pre-defined units for rare words.\n",
    "\n",
    "- **SentencePiece Tokenization:** A data-driven method for subword tokenization, used in neural models.\n",
    "  \n",
    "- **Part-of-Speech (POS) Tagging:** Assigning grammatical labels to words (e.g., noun, verb) to understand sentence structure.\n",
    "\n",
    "- **Named Entity Recognition (NER):** Identifying and classifying key entities (e.g., names, dates, locations) in text.\n",
    "  \n",
    "- **Stemming & Lemmatization:** Reducing words to their root forms for consistency (e.g., \"running\" to \"run\").\n",
    "\n",
    "- **Stop Words Removal:** Removing common words (e.g., \"the\", \"is\") that don’t add much meaning to analysis.\n",
    "\n",
    "- **Bigram:** Pairs of consecutive words (2 tokens).\n",
    "\n",
    "- **Trigram:** Triplets of consecutive words (3 tokens).\n",
    "\n",
    "- **N-gram:** General form with n consecutive words (where n > 3).\n",
    "  \n",
    "- **N-Grams:** Sequences of words (e.g., bigrams, trigrams) used to capture contextual relationships between words.\n",
    "  \n",
    "- **Text Classification:** Assigning predefined categories to text, like classifying emails as spam or not spam.\n",
    "  \n",
    "- **Machine Translation:** Translating text from one language to another using automated systems.\n",
    "\n",
    "- **Word Embeddings:** Representing words in a way that captures their meaning and relationships, helping machines understand context.\n",
    "\n",
    "- **Text Generation & Summarization:** Creating new text or condensing long text while preserving key information.\n",
    "  "
   ]
  },
  {
   "cell_type": "code",
   "execution_count": 1,
   "id": "aca0fec5-0393-45f2-ba2b-ac9c239a39ca",
   "metadata": {},
   "outputs": [],
   "source": [
    "import os\n",
    "import nltk \n",
    "# Uncomment the line below to download necessary NLTK data files (only run once)\n",
    "# nltk.download() "
   ]
  },
  {
   "cell_type": "code",
   "execution_count": 3,
   "id": "5b7acc23-ac3e-4bf8-922d-56e5261596bf",
   "metadata": {},
   "outputs": [],
   "source": [
    "# Check available corpora in NLTK\n",
    "#print(os.listdir(nltk.data.find('corpora')))"
   ]
  },
  {
   "cell_type": "code",
   "execution_count": 5,
   "id": "51f60421-48a6-4f4d-825c-54471aaadb1c",
   "metadata": {},
   "outputs": [],
   "source": [
    "# NLTK comes with several corpora. For example, let's use the 'brown' corpus to understand what NLP can do\n",
    "from nltk.corpus import brown"
   ]
  },
  {
   "cell_type": "code",
   "execution_count": 7,
   "id": "7b5920b3-f123-4ca5-9a86-3da47ab4add4",
   "metadata": {},
   "outputs": [
    {
     "data": {
      "text/plain": [
       "['The', 'Fulton', 'County', 'Grand', 'Jury', 'said', ...]"
      ]
     },
     "execution_count": 7,
     "metadata": {},
     "output_type": "execute_result"
    }
   ],
   "source": [
    "# List words in the brown corpus\n",
    "brown.words()"
   ]
  },
  {
   "cell_type": "code",
   "execution_count": 9,
   "id": "b6d39e40-1e36-48cd-9489-a64d72bc0989",
   "metadata": {},
   "outputs": [],
   "source": [
    "# List file IDs in the brown corpus\n",
    "#nltk.corpus.brown.fileids()"
   ]
  },
  {
   "cell_type": "code",
   "execution_count": 11,
   "id": "c5ddfd35-5e4b-4c81-ae92-60a9167ee50c",
   "metadata": {},
   "outputs": [],
   "source": [
    "# Let's also check the 'gutenberg' corpus\n",
    "#nltk.corpus.gutenberg.fileids()"
   ]
  },
  {
   "cell_type": "code",
   "execution_count": 13,
   "id": "ecfe4775-7ff7-4d1a-916d-621a7c5893b6",
   "metadata": {},
   "outputs": [],
   "source": [
    "# Defining a sample text about AI\n",
    "\n",
    "AI = '''The future of Artificial Intelligence holds immense potential. With advancements in neural networks, deep learning, and natural language processing, AI will likely transform every sector, from healthcare to entertainment. The development of general AI, which can perform any intellectual task a human can, remains a distant goal, but researchers are making significant strides. As AI technologies continue to evolve, they promise to augment human capabilities and solve complex problems that have historically been out of reach.'''"
   ]
  },
  {
   "cell_type": "code",
   "execution_count": 15,
   "id": "40b8455c-c8ca-46a8-a62c-b7e5e9f2dea0",
   "metadata": {},
   "outputs": [
    {
     "data": {
      "text/plain": [
       "'The future of Artificial Intelligence holds immense potential. With advancements in neural networks, deep learning, and natural language processing, AI will likely transform every sector, from healthcare to entertainment. The development of general AI, which can perform any intellectual task a human can, remains a distant goal, but researchers are making significant strides. As AI technologies continue to evolve, they promise to augment human capabilities and solve complex problems that have historically been out of reach.'"
      ]
     },
     "execution_count": 15,
     "metadata": {},
     "output_type": "execute_result"
    }
   ],
   "source": [
    "AI"
   ]
  },
  {
   "cell_type": "code",
   "execution_count": 17,
   "id": "a4af5163-dc1b-4e93-a30e-3fc3192188af",
   "metadata": {},
   "outputs": [
    {
     "data": {
      "text/plain": [
       "str"
      ]
     },
     "execution_count": 17,
     "metadata": {},
     "output_type": "execute_result"
    }
   ],
   "source": [
    "# Check the type of AI text\n",
    "type(AI)"
   ]
  },
  {
   "cell_type": "code",
   "execution_count": 19,
   "id": "aa9f1a45-021e-4143-9f93-f4e2113f43cd",
   "metadata": {},
   "outputs": [],
   "source": [
    "# Import word_tokenize to tokenize the text into individual words\n",
    "from nltk.tokenize import word_tokenize "
   ]
  },
  {
   "cell_type": "code",
   "execution_count": 21,
   "id": "b8aa1326-0c49-4566-b553-16efc899cbcd",
   "metadata": {},
   "outputs": [
    {
     "data": {
      "text/plain": [
       "['The',\n",
       " 'future',\n",
       " 'of',\n",
       " 'Artificial',\n",
       " 'Intelligence',\n",
       " 'holds',\n",
       " 'immense',\n",
       " 'potential',\n",
       " '.',\n",
       " 'With',\n",
       " 'advancements',\n",
       " 'in',\n",
       " 'neural',\n",
       " 'networks',\n",
       " ',',\n",
       " 'deep',\n",
       " 'learning',\n",
       " ',',\n",
       " 'and',\n",
       " 'natural',\n",
       " 'language',\n",
       " 'processing',\n",
       " ',',\n",
       " 'AI',\n",
       " 'will',\n",
       " 'likely',\n",
       " 'transform',\n",
       " 'every',\n",
       " 'sector',\n",
       " ',',\n",
       " 'from',\n",
       " 'healthcare',\n",
       " 'to',\n",
       " 'entertainment',\n",
       " '.',\n",
       " 'The',\n",
       " 'development',\n",
       " 'of',\n",
       " 'general',\n",
       " 'AI',\n",
       " ',',\n",
       " 'which',\n",
       " 'can',\n",
       " 'perform',\n",
       " 'any',\n",
       " 'intellectual',\n",
       " 'task',\n",
       " 'a',\n",
       " 'human',\n",
       " 'can',\n",
       " ',',\n",
       " 'remains',\n",
       " 'a',\n",
       " 'distant',\n",
       " 'goal',\n",
       " ',',\n",
       " 'but',\n",
       " 'researchers',\n",
       " 'are',\n",
       " 'making',\n",
       " 'significant',\n",
       " 'strides',\n",
       " '.',\n",
       " 'As',\n",
       " 'AI',\n",
       " 'technologies',\n",
       " 'continue',\n",
       " 'to',\n",
       " 'evolve',\n",
       " ',',\n",
       " 'they',\n",
       " 'promise',\n",
       " 'to',\n",
       " 'augment',\n",
       " 'human',\n",
       " 'capabilities',\n",
       " 'and',\n",
       " 'solve',\n",
       " 'complex',\n",
       " 'problems',\n",
       " 'that',\n",
       " 'have',\n",
       " 'historically',\n",
       " 'been',\n",
       " 'out',\n",
       " 'of',\n",
       " 'reach',\n",
       " '.']"
      ]
     },
     "execution_count": 21,
     "metadata": {},
     "output_type": "execute_result"
    }
   ],
   "source": [
    "# Tokenize the AI text into words\n",
    "AI_tokens = word_tokenize(AI)\n",
    "AI_tokens"
   ]
  },
  {
   "cell_type": "code",
   "execution_count": 23,
   "id": "43f58e73-f2e0-4790-9c30-33dee5eb7ba0",
   "metadata": {},
   "outputs": [
    {
     "data": {
      "text/plain": [
       "88"
      ]
     },
     "execution_count": 23,
     "metadata": {},
     "output_type": "execute_result"
    }
   ],
   "source": [
    "# Check the length of tokens (total number of words)\n",
    "len(AI_tokens)"
   ]
  },
  {
   "cell_type": "code",
   "execution_count": 25,
   "id": "b8a3f08c-0399-4e7f-9d2a-eb133e6c75d5",
   "metadata": {},
   "outputs": [],
   "source": [
    "# Import sent_tokenize to tokenize the text into sentences\n",
    "from nltk.tokenize import sent_tokenize "
   ]
  },
  {
   "cell_type": "code",
   "execution_count": 27,
   "id": "9e805c6f-5b23-408e-890b-db05ca45c33e",
   "metadata": {},
   "outputs": [
    {
     "data": {
      "text/plain": [
       "['The future of Artificial Intelligence holds immense potential.',\n",
       " 'With advancements in neural networks, deep learning, and natural language processing, AI will likely transform every sector, from healthcare to entertainment.',\n",
       " 'The development of general AI, which can perform any intellectual task a human can, remains a distant goal, but researchers are making significant strides.',\n",
       " 'As AI technologies continue to evolve, they promise to augment human capabilities and solve complex problems that have historically been out of reach.']"
      ]
     },
     "execution_count": 27,
     "metadata": {},
     "output_type": "execute_result"
    }
   ],
   "source": [
    "# Tokenize AI text into sentences\n",
    "AI_sent = sent_tokenize(AI)\n",
    "AI_sent"
   ]
  },
  {
   "cell_type": "code",
   "execution_count": 29,
   "id": "5c56132c-0e05-4347-9166-a1637aee04ff",
   "metadata": {},
   "outputs": [
    {
     "data": {
      "text/plain": [
       "4"
      ]
     },
     "execution_count": 29,
     "metadata": {},
     "output_type": "execute_result"
    }
   ],
   "source": [
    "# Check the length of sentences (total number of sentences)\n",
    "len(AI_sent)"
   ]
  },
  {
   "cell_type": "code",
   "execution_count": 31,
   "id": "b26558fe-b766-49b8-9d86-d884b4f40fa5",
   "metadata": {},
   "outputs": [],
   "source": [
    "# Use blankline_tokenize to split the text into paragraphs\n",
    "from nltk.tokenize import blankline_tokenize"
   ]
  },
  {
   "cell_type": "code",
   "execution_count": 33,
   "id": "3955d1d0-6e3a-42c5-b0c7-7fe96252c21b",
   "metadata": {},
   "outputs": [
    {
     "data": {
      "text/plain": [
       "1"
      ]
     },
     "execution_count": 33,
     "metadata": {},
     "output_type": "execute_result"
    }
   ],
   "source": [
    "AI_blank = blankline_tokenize(AI) \n",
    "AI_blank\n",
    "len(AI_blank)"
   ]
  },
  {
   "cell_type": "code",
   "execution_count": 35,
   "id": "0ef851ff-8168-40d5-bd72-f552b966353e",
   "metadata": {},
   "outputs": [],
   "source": [
    "# Next, let's work with N-grams (Unigrams, Bigrams, Trigrams) using NLTK\n",
    "from nltk.util import bigrams, trigrams, ngrams "
   ]
  },
  {
   "cell_type": "code",
   "execution_count": 37,
   "id": "c243a683-a5c9-457b-b4e1-9aefd94f395b",
   "metadata": {},
   "outputs": [
    {
     "data": {
      "text/plain": [
       "['Artificial',\n",
       " 'Intelligence',\n",
       " 'is',\n",
       " 'transforming',\n",
       " 'the',\n",
       " 'way',\n",
       " 'we',\n",
       " 'live',\n",
       " 'and',\n",
       " 'work',\n",
       " ',',\n",
       " 'enabling',\n",
       " 'machines',\n",
       " 'to',\n",
       " 'learn',\n",
       " ',',\n",
       " 'reason',\n",
       " ',',\n",
       " 'and',\n",
       " 'adapt',\n",
       " 'to',\n",
       " 'human-like',\n",
       " 'tasks',\n",
       " 'with',\n",
       " 'remarkable',\n",
       " 'precision',\n",
       " 'and',\n",
       " 'efficiency',\n",
       " '.']"
      ]
     },
     "execution_count": 37,
     "metadata": {},
     "output_type": "execute_result"
    }
   ],
   "source": [
    "string = 'Artificial Intelligence is transforming the way we live and work, enabling machines to learn, reason, and adapt to human-like tasks with remarkable precision and efficiency.'\n",
    "quotes_tokens = nltk.word_tokenize(string)\n",
    "quotes_tokens"
   ]
  },
  {
   "cell_type": "code",
   "execution_count": 39,
   "id": "a3e01e17-679a-46b4-b553-fe79173c0896",
   "metadata": {},
   "outputs": [
    {
     "data": {
      "text/plain": [
       "29"
      ]
     },
     "execution_count": 39,
     "metadata": {},
     "output_type": "execute_result"
    }
   ],
   "source": [
    "# Check length of tokenized words\n",
    "len(quotes_tokens)"
   ]
  },
  {
   "cell_type": "code",
   "execution_count": 41,
   "id": "026005c6-9973-4182-b89a-522f5c1589ee",
   "metadata": {},
   "outputs": [
    {
     "data": {
      "text/plain": [
       "[('Artificial', 'Intelligence'),\n",
       " ('Intelligence', 'is'),\n",
       " ('is', 'transforming'),\n",
       " ('transforming', 'the'),\n",
       " ('the', 'way'),\n",
       " ('way', 'we'),\n",
       " ('we', 'live'),\n",
       " ('live', 'and'),\n",
       " ('and', 'work'),\n",
       " ('work', ','),\n",
       " (',', 'enabling'),\n",
       " ('enabling', 'machines'),\n",
       " ('machines', 'to'),\n",
       " ('to', 'learn'),\n",
       " ('learn', ','),\n",
       " (',', 'reason'),\n",
       " ('reason', ','),\n",
       " (',', 'and'),\n",
       " ('and', 'adapt'),\n",
       " ('adapt', 'to'),\n",
       " ('to', 'human-like'),\n",
       " ('human-like', 'tasks'),\n",
       " ('tasks', 'with'),\n",
       " ('with', 'remarkable'),\n",
       " ('remarkable', 'precision'),\n",
       " ('precision', 'and'),\n",
       " ('and', 'efficiency'),\n",
       " ('efficiency', '.')]"
      ]
     },
     "execution_count": 41,
     "metadata": {},
     "output_type": "execute_result"
    }
   ],
   "source": [
    "# Create bigrams from tokenized text\n",
    "quotes_bigrams = list(nltk.bigrams(quotes_tokens))\n",
    "quotes_bigrams"
   ]
  },
  {
   "cell_type": "code",
   "execution_count": 43,
   "id": "7fccc844-46f6-4364-979e-20103f10233b",
   "metadata": {},
   "outputs": [
    {
     "data": {
      "text/plain": [
       "[('Artificial', 'Intelligence', 'is'),\n",
       " ('Intelligence', 'is', 'transforming'),\n",
       " ('is', 'transforming', 'the'),\n",
       " ('transforming', 'the', 'way'),\n",
       " ('the', 'way', 'we'),\n",
       " ('way', 'we', 'live'),\n",
       " ('we', 'live', 'and'),\n",
       " ('live', 'and', 'work'),\n",
       " ('and', 'work', ','),\n",
       " ('work', ',', 'enabling'),\n",
       " (',', 'enabling', 'machines'),\n",
       " ('enabling', 'machines', 'to'),\n",
       " ('machines', 'to', 'learn'),\n",
       " ('to', 'learn', ','),\n",
       " ('learn', ',', 'reason'),\n",
       " (',', 'reason', ','),\n",
       " ('reason', ',', 'and'),\n",
       " (',', 'and', 'adapt'),\n",
       " ('and', 'adapt', 'to'),\n",
       " ('adapt', 'to', 'human-like'),\n",
       " ('to', 'human-like', 'tasks'),\n",
       " ('human-like', 'tasks', 'with'),\n",
       " ('tasks', 'with', 'remarkable'),\n",
       " ('with', 'remarkable', 'precision'),\n",
       " ('remarkable', 'precision', 'and'),\n",
       " ('precision', 'and', 'efficiency'),\n",
       " ('and', 'efficiency', '.')]"
      ]
     },
     "execution_count": 43,
     "metadata": {},
     "output_type": "execute_result"
    }
   ],
   "source": [
    "# Create trigrams from tokenized text\n",
    "quotes_trigrams = list(nltk.trigrams(quotes_tokens))\n",
    "quotes_trigrams"
   ]
  },
  {
   "cell_type": "code",
   "execution_count": 45,
   "id": "d6cc65c0-179b-4a8f-817a-aba4120d07e1",
   "metadata": {},
   "outputs": [
    {
     "data": {
      "text/plain": [
       "[('Artificial', 'Intelligence', 'is', 'transforming'),\n",
       " ('Intelligence', 'is', 'transforming', 'the'),\n",
       " ('is', 'transforming', 'the', 'way'),\n",
       " ('transforming', 'the', 'way', 'we'),\n",
       " ('the', 'way', 'we', 'live'),\n",
       " ('way', 'we', 'live', 'and'),\n",
       " ('we', 'live', 'and', 'work'),\n",
       " ('live', 'and', 'work', ','),\n",
       " ('and', 'work', ',', 'enabling'),\n",
       " ('work', ',', 'enabling', 'machines'),\n",
       " (',', 'enabling', 'machines', 'to'),\n",
       " ('enabling', 'machines', 'to', 'learn'),\n",
       " ('machines', 'to', 'learn', ','),\n",
       " ('to', 'learn', ',', 'reason'),\n",
       " ('learn', ',', 'reason', ','),\n",
       " (',', 'reason', ',', 'and'),\n",
       " ('reason', ',', 'and', 'adapt'),\n",
       " (',', 'and', 'adapt', 'to'),\n",
       " ('and', 'adapt', 'to', 'human-like'),\n",
       " ('adapt', 'to', 'human-like', 'tasks'),\n",
       " ('to', 'human-like', 'tasks', 'with'),\n",
       " ('human-like', 'tasks', 'with', 'remarkable'),\n",
       " ('tasks', 'with', 'remarkable', 'precision'),\n",
       " ('with', 'remarkable', 'precision', 'and'),\n",
       " ('remarkable', 'precision', 'and', 'efficiency'),\n",
       " ('precision', 'and', 'efficiency', '.')]"
      ]
     },
     "execution_count": 45,
     "metadata": {},
     "output_type": "execute_result"
    }
   ],
   "source": [
    "# Create n-grams (default is 2-grams) with n-grams size = 4\n",
    "quotes_ngrams = list(nltk.ngrams(quotes_tokens, 4)) \n",
    "quotes_ngrams"
   ]
  },
  {
   "cell_type": "code",
   "execution_count": 47,
   "id": "84332e59-662c-46f7-aa4a-47e5632ff7cf",
   "metadata": {},
   "outputs": [
    {
     "data": {
      "text/plain": [
       "[('Artificial', 'Intelligence', 'is', 'transforming', 'the'),\n",
       " ('Intelligence', 'is', 'transforming', 'the', 'way'),\n",
       " ('is', 'transforming', 'the', 'way', 'we'),\n",
       " ('transforming', 'the', 'way', 'we', 'live'),\n",
       " ('the', 'way', 'we', 'live', 'and'),\n",
       " ('way', 'we', 'live', 'and', 'work'),\n",
       " ('we', 'live', 'and', 'work', ','),\n",
       " ('live', 'and', 'work', ',', 'enabling'),\n",
       " ('and', 'work', ',', 'enabling', 'machines'),\n",
       " ('work', ',', 'enabling', 'machines', 'to'),\n",
       " (',', 'enabling', 'machines', 'to', 'learn'),\n",
       " ('enabling', 'machines', 'to', 'learn', ','),\n",
       " ('machines', 'to', 'learn', ',', 'reason'),\n",
       " ('to', 'learn', ',', 'reason', ','),\n",
       " ('learn', ',', 'reason', ',', 'and'),\n",
       " (',', 'reason', ',', 'and', 'adapt'),\n",
       " ('reason', ',', 'and', 'adapt', 'to'),\n",
       " (',', 'and', 'adapt', 'to', 'human-like'),\n",
       " ('and', 'adapt', 'to', 'human-like', 'tasks'),\n",
       " ('adapt', 'to', 'human-like', 'tasks', 'with'),\n",
       " ('to', 'human-like', 'tasks', 'with', 'remarkable'),\n",
       " ('human-like', 'tasks', 'with', 'remarkable', 'precision'),\n",
       " ('tasks', 'with', 'remarkable', 'precision', 'and'),\n",
       " ('with', 'remarkable', 'precision', 'and', 'efficiency'),\n",
       " ('remarkable', 'precision', 'and', 'efficiency', '.')]"
      ]
     },
     "execution_count": 47,
     "metadata": {},
     "output_type": "execute_result"
    }
   ],
   "source": [
    "# Now let's create n-grams with size 5 and 9\n",
    "quotes_ngrams_1 = list(nltk.ngrams(quotes_tokens, 5)) \n",
    "quotes_ngrams_1"
   ]
  },
  {
   "cell_type": "code",
   "execution_count": 49,
   "id": "6da0c8dd-c79a-4f6d-9cb0-3e24eec1a264",
   "metadata": {},
   "outputs": [
    {
     "data": {
      "text/plain": [
       "[('Artificial',\n",
       "  'Intelligence',\n",
       "  'is',\n",
       "  'transforming',\n",
       "  'the',\n",
       "  'way',\n",
       "  'we',\n",
       "  'live',\n",
       "  'and'),\n",
       " ('Intelligence',\n",
       "  'is',\n",
       "  'transforming',\n",
       "  'the',\n",
       "  'way',\n",
       "  'we',\n",
       "  'live',\n",
       "  'and',\n",
       "  'work'),\n",
       " ('is', 'transforming', 'the', 'way', 'we', 'live', 'and', 'work', ','),\n",
       " ('transforming', 'the', 'way', 'we', 'live', 'and', 'work', ',', 'enabling'),\n",
       " ('the', 'way', 'we', 'live', 'and', 'work', ',', 'enabling', 'machines'),\n",
       " ('way', 'we', 'live', 'and', 'work', ',', 'enabling', 'machines', 'to'),\n",
       " ('we', 'live', 'and', 'work', ',', 'enabling', 'machines', 'to', 'learn'),\n",
       " ('live', 'and', 'work', ',', 'enabling', 'machines', 'to', 'learn', ','),\n",
       " ('and', 'work', ',', 'enabling', 'machines', 'to', 'learn', ',', 'reason'),\n",
       " ('work', ',', 'enabling', 'machines', 'to', 'learn', ',', 'reason', ','),\n",
       " (',', 'enabling', 'machines', 'to', 'learn', ',', 'reason', ',', 'and'),\n",
       " ('enabling', 'machines', 'to', 'learn', ',', 'reason', ',', 'and', 'adapt'),\n",
       " ('machines', 'to', 'learn', ',', 'reason', ',', 'and', 'adapt', 'to'),\n",
       " ('to', 'learn', ',', 'reason', ',', 'and', 'adapt', 'to', 'human-like'),\n",
       " ('learn', ',', 'reason', ',', 'and', 'adapt', 'to', 'human-like', 'tasks'),\n",
       " (',', 'reason', ',', 'and', 'adapt', 'to', 'human-like', 'tasks', 'with'),\n",
       " ('reason',\n",
       "  ',',\n",
       "  'and',\n",
       "  'adapt',\n",
       "  'to',\n",
       "  'human-like',\n",
       "  'tasks',\n",
       "  'with',\n",
       "  'remarkable'),\n",
       " (',',\n",
       "  'and',\n",
       "  'adapt',\n",
       "  'to',\n",
       "  'human-like',\n",
       "  'tasks',\n",
       "  'with',\n",
       "  'remarkable',\n",
       "  'precision'),\n",
       " ('and',\n",
       "  'adapt',\n",
       "  'to',\n",
       "  'human-like',\n",
       "  'tasks',\n",
       "  'with',\n",
       "  'remarkable',\n",
       "  'precision',\n",
       "  'and'),\n",
       " ('adapt',\n",
       "  'to',\n",
       "  'human-like',\n",
       "  'tasks',\n",
       "  'with',\n",
       "  'remarkable',\n",
       "  'precision',\n",
       "  'and',\n",
       "  'efficiency'),\n",
       " ('to',\n",
       "  'human-like',\n",
       "  'tasks',\n",
       "  'with',\n",
       "  'remarkable',\n",
       "  'precision',\n",
       "  'and',\n",
       "  'efficiency',\n",
       "  '.')]"
      ]
     },
     "execution_count": 49,
     "metadata": {},
     "output_type": "execute_result"
    }
   ],
   "source": [
    "quotes_ngrams_9 = list(nltk.ngrams(quotes_tokens, 9)) \n",
    "quotes_ngrams_9"
   ]
  },
  {
   "cell_type": "markdown",
   "id": "2e100f49-1d9c-407a-afa0-9e9806b96eb6",
   "metadata": {},
   "source": [
    "#  Next, we will apply stemming using different stemmers"
   ]
  },
  {
   "cell_type": "code",
   "execution_count": 52,
   "id": "82048958-6c04-4780-854d-d5e812fa666f",
   "metadata": {},
   "outputs": [],
   "source": [
    "# Importing PorterStemmer\n",
    "from nltk.stem import PorterStemmer\n",
    "pst = PorterStemmer()"
   ]
  },
  {
   "cell_type": "code",
   "execution_count": 54,
   "id": "fbec3f19-7fb2-4194-b0b2-7349eddd9aa8",
   "metadata": {},
   "outputs": [
    {
     "data": {
      "text/plain": [
       "'give'"
      ]
     },
     "execution_count": 54,
     "metadata": {},
     "output_type": "execute_result"
    }
   ],
   "source": [
    "# Apply PorterStemmer to different words\n",
    "pst.stem('having') \n",
    "pst.stem('affection')\n",
    "pst.stem('playing')\n",
    "pst.stem('give')"
   ]
  },
  {
   "cell_type": "code",
   "execution_count": 56,
   "id": "856c9159-32a2-4e13-90bd-047efa37874a",
   "metadata": {},
   "outputs": [],
   "source": [
    "words_to_stem = ['give', 'giving', 'given', 'gave']"
   ]
  },
  {
   "cell_type": "code",
   "execution_count": 58,
   "id": "bc200afb-e081-4792-8748-704299cf8fd0",
   "metadata": {},
   "outputs": [
    {
     "name": "stdout",
     "output_type": "stream",
     "text": [
      "give:give\n",
      "giving:give\n",
      "given:given\n",
      "gave:gave\n"
     ]
    }
   ],
   "source": [
    "# Stemming multiple words\n",
    "for words in words_to_stem:\n",
    "    print(words + ':' + pst.stem(words))"
   ]
  },
  {
   "cell_type": "code",
   "execution_count": 60,
   "id": "d3984a84-faa9-43a4-8239-bbb7ddcd47ff",
   "metadata": {},
   "outputs": [],
   "source": [
    "# Using another stemmer, LancasterStemmer\n",
    "from nltk.stem import LancasterStemmer\n",
    "lst = LancasterStemmer()"
   ]
  },
  {
   "cell_type": "code",
   "execution_count": 62,
   "id": "6eca3125-8221-4954-a5a7-1ac384c3c15e",
   "metadata": {},
   "outputs": [
    {
     "name": "stdout",
     "output_type": "stream",
     "text": [
      "give:giv\n",
      "giving:giv\n",
      "given:giv\n",
      "gave:gav\n"
     ]
    }
   ],
   "source": [
    "# Apply LancasterStemmer to words\n",
    "for words in words_to_stem:\n",
    "    print(words + ':' + lst.stem(words))"
   ]
  },
  {
   "cell_type": "code",
   "execution_count": 64,
   "id": "3758f263-3e44-4989-975c-c554948a89b7",
   "metadata": {},
   "outputs": [],
   "source": [
    "# Now, let's use the SnowballStemmer\n",
    "from nltk.stem import SnowballStemmer\n",
    "sbst = SnowballStemmer('english')"
   ]
  },
  {
   "cell_type": "code",
   "execution_count": 66,
   "id": "6205f6b7-caf9-4856-aac4-0a650fe1cdcc",
   "metadata": {},
   "outputs": [
    {
     "name": "stdout",
     "output_type": "stream",
     "text": [
      "give:give\n",
      "giving:give\n",
      "given:given\n",
      "gave:gave\n"
     ]
    }
   ],
   "source": [
    "# Apply SnowballStemmer to words\n",
    "for words in words_to_stem:\n",
    "    print(words + ':' + sbst.stem(words))"
   ]
  },
  {
   "cell_type": "code",
   "execution_count": 68,
   "id": "56c58acc-68bd-480f-bb26-847819091a3b",
   "metadata": {},
   "outputs": [],
   "source": [
    "# Lemmatization (word root form) using WordNetLemmatizer\n",
    "from nltk.stem import WordNetLemmatizer\n",
    "word_lem = WordNetLemmatizer()"
   ]
  },
  {
   "cell_type": "code",
   "execution_count": 70,
   "id": "f6ed1a86-3e31-4cf7-a908-c304f3178ad7",
   "metadata": {},
   "outputs": [
    {
     "name": "stdout",
     "output_type": "stream",
     "text": [
      "give:give\n",
      "giving:giving\n",
      "given:given\n",
      "gave:gave\n"
     ]
    }
   ],
   "source": [
    "# Lemmatize words\n",
    "for words in words_to_stem:\n",
    "    print(words + ':' + word_lem.lemmatize(words))"
   ]
  },
  {
   "cell_type": "code",
   "execution_count": 71,
   "id": "2840e517-aa5a-4ee6-86a7-43e4ae1a0e38",
   "metadata": {},
   "outputs": [
    {
     "data": {
      "text/plain": [
       "'fin'"
      ]
     },
     "execution_count": 71,
     "metadata": {},
     "output_type": "execute_result"
    }
   ],
   "source": [
    "# Check stemming of 'final' using different stemmers\n",
    "pst.stem('final')\n",
    "lst.stem('finally')\n",
    "sbst.stem('finalized')\n",
    "lst.stem('final')\n",
    "lst.stem('finalized')"
   ]
  },
  {
   "cell_type": "code",
   "execution_count": 74,
   "id": "79cd27aa-7aed-44b5-957d-54e65a109670",
   "metadata": {},
   "outputs": [],
   "source": [
    "# Stopwords handling\n",
    "from nltk.corpus import stopwords"
   ]
  },
  {
   "cell_type": "code",
   "execution_count": 76,
   "id": "7767155e-1084-4a1c-8404-f43f9b79731d",
   "metadata": {},
   "outputs": [
    {
     "data": {
      "text/plain": [
       "['i',\n",
       " 'me',\n",
       " 'my',\n",
       " 'myself',\n",
       " 'we',\n",
       " 'our',\n",
       " 'ours',\n",
       " 'ourselves',\n",
       " 'you',\n",
       " \"you're\",\n",
       " \"you've\",\n",
       " \"you'll\",\n",
       " \"you'd\",\n",
       " 'your',\n",
       " 'yours',\n",
       " 'yourself',\n",
       " 'yourselves',\n",
       " 'he',\n",
       " 'him',\n",
       " 'his',\n",
       " 'himself',\n",
       " 'she',\n",
       " \"she's\",\n",
       " 'her',\n",
       " 'hers',\n",
       " 'herself',\n",
       " 'it',\n",
       " \"it's\",\n",
       " 'its',\n",
       " 'itself',\n",
       " 'they',\n",
       " 'them',\n",
       " 'their',\n",
       " 'theirs',\n",
       " 'themselves',\n",
       " 'what',\n",
       " 'which',\n",
       " 'who',\n",
       " 'whom',\n",
       " 'this',\n",
       " 'that',\n",
       " \"that'll\",\n",
       " 'these',\n",
       " 'those',\n",
       " 'am',\n",
       " 'is',\n",
       " 'are',\n",
       " 'was',\n",
       " 'were',\n",
       " 'be',\n",
       " 'been',\n",
       " 'being',\n",
       " 'have',\n",
       " 'has',\n",
       " 'had',\n",
       " 'having',\n",
       " 'do',\n",
       " 'does',\n",
       " 'did',\n",
       " 'doing',\n",
       " 'a',\n",
       " 'an',\n",
       " 'the',\n",
       " 'and',\n",
       " 'but',\n",
       " 'if',\n",
       " 'or',\n",
       " 'because',\n",
       " 'as',\n",
       " 'until',\n",
       " 'while',\n",
       " 'of',\n",
       " 'at',\n",
       " 'by',\n",
       " 'for',\n",
       " 'with',\n",
       " 'about',\n",
       " 'against',\n",
       " 'between',\n",
       " 'into',\n",
       " 'through',\n",
       " 'during',\n",
       " 'before',\n",
       " 'after',\n",
       " 'above',\n",
       " 'below',\n",
       " 'to',\n",
       " 'from',\n",
       " 'up',\n",
       " 'down',\n",
       " 'in',\n",
       " 'out',\n",
       " 'on',\n",
       " 'off',\n",
       " 'over',\n",
       " 'under',\n",
       " 'again',\n",
       " 'further',\n",
       " 'then',\n",
       " 'once',\n",
       " 'here',\n",
       " 'there',\n",
       " 'when',\n",
       " 'where',\n",
       " 'why',\n",
       " 'how',\n",
       " 'all',\n",
       " 'any',\n",
       " 'both',\n",
       " 'each',\n",
       " 'few',\n",
       " 'more',\n",
       " 'most',\n",
       " 'other',\n",
       " 'some',\n",
       " 'such',\n",
       " 'no',\n",
       " 'nor',\n",
       " 'not',\n",
       " 'only',\n",
       " 'own',\n",
       " 'same',\n",
       " 'so',\n",
       " 'than',\n",
       " 'too',\n",
       " 'very',\n",
       " 's',\n",
       " 't',\n",
       " 'can',\n",
       " 'will',\n",
       " 'just',\n",
       " 'don',\n",
       " \"don't\",\n",
       " 'should',\n",
       " \"should've\",\n",
       " 'now',\n",
       " 'd',\n",
       " 'll',\n",
       " 'm',\n",
       " 'o',\n",
       " 're',\n",
       " 've',\n",
       " 'y',\n",
       " 'ain',\n",
       " 'aren',\n",
       " \"aren't\",\n",
       " 'couldn',\n",
       " \"couldn't\",\n",
       " 'didn',\n",
       " \"didn't\",\n",
       " 'doesn',\n",
       " \"doesn't\",\n",
       " 'hadn',\n",
       " \"hadn't\",\n",
       " 'hasn',\n",
       " \"hasn't\",\n",
       " 'haven',\n",
       " \"haven't\",\n",
       " 'isn',\n",
       " \"isn't\",\n",
       " 'ma',\n",
       " 'mightn',\n",
       " \"mightn't\",\n",
       " 'mustn',\n",
       " \"mustn't\",\n",
       " 'needn',\n",
       " \"needn't\",\n",
       " 'shan',\n",
       " \"shan't\",\n",
       " 'shouldn',\n",
       " \"shouldn't\",\n",
       " 'wasn',\n",
       " \"wasn't\",\n",
       " 'weren',\n",
       " \"weren't\",\n",
       " 'won',\n",
       " \"won't\",\n",
       " 'wouldn',\n",
       " \"wouldn't\"]"
      ]
     },
     "execution_count": 76,
     "metadata": {},
     "output_type": "execute_result"
    }
   ],
   "source": [
    "\n",
    "# Check available stopwords in English, Spanish, French, German, Hindi, Marathi, etc.\n",
    "stopwords.words('english') \n",
    "#stopwords.words('spanish')\n",
    "#stopwords.words('french') \n",
    "#stopwords.words('german') \n",
    "#stopwords.words('hindi') \n",
    "#stopwords.words('marathi')"
   ]
  },
  {
   "cell_type": "code",
   "execution_count": 78,
   "id": "d277a846-b467-4138-b575-1e8c3554dd3e",
   "metadata": {},
   "outputs": [
    {
     "data": {
      "text/plain": [
       "['de',\n",
       " 'la',\n",
       " 'que',\n",
       " 'el',\n",
       " 'en',\n",
       " 'y',\n",
       " 'a',\n",
       " 'los',\n",
       " 'del',\n",
       " 'se',\n",
       " 'las',\n",
       " 'por',\n",
       " 'un',\n",
       " 'para',\n",
       " 'con',\n",
       " 'no',\n",
       " 'una',\n",
       " 'su',\n",
       " 'al',\n",
       " 'lo',\n",
       " 'como',\n",
       " 'más',\n",
       " 'pero',\n",
       " 'sus',\n",
       " 'le',\n",
       " 'ya',\n",
       " 'o',\n",
       " 'este',\n",
       " 'sí',\n",
       " 'porque',\n",
       " 'esta',\n",
       " 'entre',\n",
       " 'cuando',\n",
       " 'muy',\n",
       " 'sin',\n",
       " 'sobre',\n",
       " 'también',\n",
       " 'me',\n",
       " 'hasta',\n",
       " 'hay',\n",
       " 'donde',\n",
       " 'quien',\n",
       " 'desde',\n",
       " 'todo',\n",
       " 'nos',\n",
       " 'durante',\n",
       " 'todos',\n",
       " 'uno',\n",
       " 'les',\n",
       " 'ni',\n",
       " 'contra',\n",
       " 'otros',\n",
       " 'ese',\n",
       " 'eso',\n",
       " 'ante',\n",
       " 'ellos',\n",
       " 'e',\n",
       " 'esto',\n",
       " 'mí',\n",
       " 'antes',\n",
       " 'algunos',\n",
       " 'qué',\n",
       " 'unos',\n",
       " 'yo',\n",
       " 'otro',\n",
       " 'otras',\n",
       " 'otra',\n",
       " 'él',\n",
       " 'tanto',\n",
       " 'esa',\n",
       " 'estos',\n",
       " 'mucho',\n",
       " 'quienes',\n",
       " 'nada',\n",
       " 'muchos',\n",
       " 'cual',\n",
       " 'poco',\n",
       " 'ella',\n",
       " 'estar',\n",
       " 'estas',\n",
       " 'algunas',\n",
       " 'algo',\n",
       " 'nosotros',\n",
       " 'mi',\n",
       " 'mis',\n",
       " 'tú',\n",
       " 'te',\n",
       " 'ti',\n",
       " 'tu',\n",
       " 'tus',\n",
       " 'ellas',\n",
       " 'nosotras',\n",
       " 'vosotros',\n",
       " 'vosotras',\n",
       " 'os',\n",
       " 'mío',\n",
       " 'mía',\n",
       " 'míos',\n",
       " 'mías',\n",
       " 'tuyo',\n",
       " 'tuya',\n",
       " 'tuyos',\n",
       " 'tuyas',\n",
       " 'suyo',\n",
       " 'suya',\n",
       " 'suyos',\n",
       " 'suyas',\n",
       " 'nuestro',\n",
       " 'nuestra',\n",
       " 'nuestros',\n",
       " 'nuestras',\n",
       " 'vuestro',\n",
       " 'vuestra',\n",
       " 'vuestros',\n",
       " 'vuestras',\n",
       " 'esos',\n",
       " 'esas',\n",
       " 'estoy',\n",
       " 'estás',\n",
       " 'está',\n",
       " 'estamos',\n",
       " 'estáis',\n",
       " 'están',\n",
       " 'esté',\n",
       " 'estés',\n",
       " 'estemos',\n",
       " 'estéis',\n",
       " 'estén',\n",
       " 'estaré',\n",
       " 'estarás',\n",
       " 'estará',\n",
       " 'estaremos',\n",
       " 'estaréis',\n",
       " 'estarán',\n",
       " 'estaría',\n",
       " 'estarías',\n",
       " 'estaríamos',\n",
       " 'estaríais',\n",
       " 'estarían',\n",
       " 'estaba',\n",
       " 'estabas',\n",
       " 'estábamos',\n",
       " 'estabais',\n",
       " 'estaban',\n",
       " 'estuve',\n",
       " 'estuviste',\n",
       " 'estuvo',\n",
       " 'estuvimos',\n",
       " 'estuvisteis',\n",
       " 'estuvieron',\n",
       " 'estuviera',\n",
       " 'estuvieras',\n",
       " 'estuviéramos',\n",
       " 'estuvierais',\n",
       " 'estuvieran',\n",
       " 'estuviese',\n",
       " 'estuvieses',\n",
       " 'estuviésemos',\n",
       " 'estuvieseis',\n",
       " 'estuviesen',\n",
       " 'estando',\n",
       " 'estado',\n",
       " 'estada',\n",
       " 'estados',\n",
       " 'estadas',\n",
       " 'estad',\n",
       " 'he',\n",
       " 'has',\n",
       " 'ha',\n",
       " 'hemos',\n",
       " 'habéis',\n",
       " 'han',\n",
       " 'haya',\n",
       " 'hayas',\n",
       " 'hayamos',\n",
       " 'hayáis',\n",
       " 'hayan',\n",
       " 'habré',\n",
       " 'habrás',\n",
       " 'habrá',\n",
       " 'habremos',\n",
       " 'habréis',\n",
       " 'habrán',\n",
       " 'habría',\n",
       " 'habrías',\n",
       " 'habríamos',\n",
       " 'habríais',\n",
       " 'habrían',\n",
       " 'había',\n",
       " 'habías',\n",
       " 'habíamos',\n",
       " 'habíais',\n",
       " 'habían',\n",
       " 'hube',\n",
       " 'hubiste',\n",
       " 'hubo',\n",
       " 'hubimos',\n",
       " 'hubisteis',\n",
       " 'hubieron',\n",
       " 'hubiera',\n",
       " 'hubieras',\n",
       " 'hubiéramos',\n",
       " 'hubierais',\n",
       " 'hubieran',\n",
       " 'hubiese',\n",
       " 'hubieses',\n",
       " 'hubiésemos',\n",
       " 'hubieseis',\n",
       " 'hubiesen',\n",
       " 'habiendo',\n",
       " 'habido',\n",
       " 'habida',\n",
       " 'habidos',\n",
       " 'habidas',\n",
       " 'soy',\n",
       " 'eres',\n",
       " 'es',\n",
       " 'somos',\n",
       " 'sois',\n",
       " 'son',\n",
       " 'sea',\n",
       " 'seas',\n",
       " 'seamos',\n",
       " 'seáis',\n",
       " 'sean',\n",
       " 'seré',\n",
       " 'serás',\n",
       " 'será',\n",
       " 'seremos',\n",
       " 'seréis',\n",
       " 'serán',\n",
       " 'sería',\n",
       " 'serías',\n",
       " 'seríamos',\n",
       " 'seríais',\n",
       " 'serían',\n",
       " 'era',\n",
       " 'eras',\n",
       " 'éramos',\n",
       " 'erais',\n",
       " 'eran',\n",
       " 'fui',\n",
       " 'fuiste',\n",
       " 'fue',\n",
       " 'fuimos',\n",
       " 'fuisteis',\n",
       " 'fueron',\n",
       " 'fuera',\n",
       " 'fueras',\n",
       " 'fuéramos',\n",
       " 'fuerais',\n",
       " 'fueran',\n",
       " 'fuese',\n",
       " 'fueses',\n",
       " 'fuésemos',\n",
       " 'fueseis',\n",
       " 'fuesen',\n",
       " 'sintiendo',\n",
       " 'sentido',\n",
       " 'sentida',\n",
       " 'sentidos',\n",
       " 'sentidas',\n",
       " 'siente',\n",
       " 'sentid',\n",
       " 'tengo',\n",
       " 'tienes',\n",
       " 'tiene',\n",
       " 'tenemos',\n",
       " 'tenéis',\n",
       " 'tienen',\n",
       " 'tenga',\n",
       " 'tengas',\n",
       " 'tengamos',\n",
       " 'tengáis',\n",
       " 'tengan',\n",
       " 'tendré',\n",
       " 'tendrás',\n",
       " 'tendrá',\n",
       " 'tendremos',\n",
       " 'tendréis',\n",
       " 'tendrán',\n",
       " 'tendría',\n",
       " 'tendrías',\n",
       " 'tendríamos',\n",
       " 'tendríais',\n",
       " 'tendrían',\n",
       " 'tenía',\n",
       " 'tenías',\n",
       " 'teníamos',\n",
       " 'teníais',\n",
       " 'tenían',\n",
       " 'tuve',\n",
       " 'tuviste',\n",
       " 'tuvo',\n",
       " 'tuvimos',\n",
       " 'tuvisteis',\n",
       " 'tuvieron',\n",
       " 'tuviera',\n",
       " 'tuvieras',\n",
       " 'tuviéramos',\n",
       " 'tuvierais',\n",
       " 'tuvieran',\n",
       " 'tuviese',\n",
       " 'tuvieses',\n",
       " 'tuviésemos',\n",
       " 'tuvieseis',\n",
       " 'tuviesen',\n",
       " 'teniendo',\n",
       " 'tenido',\n",
       " 'tenida',\n",
       " 'tenidos',\n",
       " 'tenidas',\n",
       " 'tened']"
      ]
     },
     "execution_count": 78,
     "metadata": {},
     "output_type": "execute_result"
    }
   ],
   "source": [
    "stopwords.words('spanish')"
   ]
  },
  {
   "cell_type": "code",
   "execution_count": 80,
   "id": "a8b8f0b8-a79a-4f05-ac8b-d12f18d04e74",
   "metadata": {},
   "outputs": [],
   "source": [
    "# Compile regex for punctuation characters\n",
    "import re\n",
    "punctuation = re.compile(r'[-.?!,:;()|0-9]') "
   ]
  },
  {
   "cell_type": "code",
   "execution_count": 82,
   "id": "47f53717-3d48-4c6d-aa9c-f0ffdd9fb285",
   "metadata": {},
   "outputs": [
    {
     "data": {
      "text/plain": [
       "['The',\n",
       " 'future',\n",
       " 'of',\n",
       " 'Artificial',\n",
       " 'Intelligence',\n",
       " 'holds',\n",
       " 'immense',\n",
       " 'potential',\n",
       " 'With',\n",
       " 'advancements',\n",
       " 'in',\n",
       " 'neural',\n",
       " 'networks',\n",
       " 'deep',\n",
       " 'learning',\n",
       " 'and',\n",
       " 'natural',\n",
       " 'language',\n",
       " 'processing',\n",
       " 'AI',\n",
       " 'will',\n",
       " 'likely',\n",
       " 'transform',\n",
       " 'every',\n",
       " 'sector',\n",
       " 'from',\n",
       " 'healthcare',\n",
       " 'to',\n",
       " 'entertainment',\n",
       " 'The',\n",
       " 'development',\n",
       " 'of',\n",
       " 'general',\n",
       " 'AI',\n",
       " 'which',\n",
       " 'can',\n",
       " 'perform',\n",
       " 'any',\n",
       " 'intellectual',\n",
       " 'task',\n",
       " 'a',\n",
       " 'human',\n",
       " 'can',\n",
       " 'remains',\n",
       " 'a',\n",
       " 'distant',\n",
       " 'goal',\n",
       " 'but',\n",
       " 'researchers',\n",
       " 'are',\n",
       " 'making',\n",
       " 'significant',\n",
       " 'strides',\n",
       " 'As',\n",
       " 'AI',\n",
       " 'technologies',\n",
       " 'continue',\n",
       " 'to',\n",
       " 'evolve',\n",
       " 'they',\n",
       " 'promise',\n",
       " 'to',\n",
       " 'augment',\n",
       " 'human',\n",
       " 'capabilities',\n",
       " 'and',\n",
       " 'solve',\n",
       " 'complex',\n",
       " 'problems',\n",
       " 'that',\n",
       " 'have',\n",
       " 'historically',\n",
       " 'been',\n",
       " 'out',\n",
       " 'of',\n",
       " 'reach']"
      ]
     },
     "execution_count": 82,
     "metadata": {},
     "output_type": "execute_result"
    }
   ],
   "source": [
    "# Remove punctuation from AI text tokens\n",
    "AI_tokens_cleaned = [word for word in AI_tokens if not punctuation.match(word)]\n",
    "AI_tokens_cleaned"
   ]
  },
  {
   "cell_type": "code",
   "execution_count": 84,
   "id": "023bccb1-6a86-4ac9-9ce0-80296dd2325a",
   "metadata": {},
   "outputs": [
    {
     "data": {
      "text/plain": [
       "['AI',\n",
       " 'is',\n",
       " 'an',\n",
       " 'innovative',\n",
       " 'technology',\n",
       " 'that',\n",
       " 'helps',\n",
       " 'machines',\n",
       " 'perform',\n",
       " 'tasks',\n",
       " 'intelligently']"
      ]
     },
     "execution_count": 84,
     "metadata": {},
     "output_type": "execute_result"
    }
   ],
   "source": [
    "# Part-of-Speech (POS) Tagging\n",
    "sent = 'AI is an innovative technology that helps machines perform tasks intelligently'\n",
    "sent_tokens = word_tokenize(sent)\n",
    "sent_tokens"
   ]
  },
  {
   "cell_type": "code",
   "execution_count": 86,
   "id": "95ca49c6-0e60-4935-ad13-0a68c7895480",
   "metadata": {},
   "outputs": [
    {
     "name": "stdout",
     "output_type": "stream",
     "text": [
      "[('AI', 'NN')]\n",
      "[('is', 'VBZ')]\n",
      "[('an', 'DT')]\n",
      "[('innovative', 'JJ')]\n",
      "[('technology', 'NN')]\n",
      "[('that', 'IN')]\n",
      "[('helps', 'NNS')]\n",
      "[('machines', 'NNS')]\n",
      "[('perform', 'NN')]\n",
      "[('tasks', 'NNS')]\n",
      "[('intelligently', 'RB')]\n"
     ]
    }
   ],
   "source": [
    "# POS tagging of tokens\n",
    "for token in sent_tokens:\n",
    "    print(nltk.pos_tag([token]))"
   ]
  },
  {
   "cell_type": "code",
   "execution_count": 88,
   "id": "abe5e95f-eff7-49d5-9cc6-514a90a7908f",
   "metadata": {},
   "outputs": [
    {
     "data": {
      "text/plain": [
       "['AI',\n",
       " 'is',\n",
       " 'transforming',\n",
       " 'industries',\n",
       " 'with',\n",
       " 'advanced',\n",
       " 'machine',\n",
       " 'learning',\n",
       " 'algorithms']"
      ]
     },
     "execution_count": 88,
     "metadata": {},
     "output_type": "execute_result"
    }
   ],
   "source": [
    "# Another example sentence for POS tagging\n",
    "sent2 = 'AI is transforming industries with advanced machine learning algorithms'\n",
    "sent2_tokens = word_tokenize(sent2)\n",
    "sent2_tokens"
   ]
  },
  {
   "cell_type": "code",
   "execution_count": 90,
   "id": "0f39cb27-46ea-44b7-829c-58624420ab4d",
   "metadata": {},
   "outputs": [
    {
     "name": "stdout",
     "output_type": "stream",
     "text": [
      "[('AI', 'NN')]\n",
      "[('is', 'VBZ')]\n",
      "[('transforming', 'VBG')]\n",
      "[('industries', 'NNS')]\n",
      "[('with', 'IN')]\n",
      "[('advanced', 'JJ')]\n",
      "[('machine', 'NN')]\n",
      "[('learning', 'VBG')]\n",
      "[('algorithms', 'NN')]\n"
     ]
    }
   ],
   "source": [
    "# POS tagging of the second sentence\n",
    "for token in sent2_tokens:\n",
    "    print(nltk.pos_tag([token]))"
   ]
  },
  {
   "cell_type": "code",
   "execution_count": 92,
   "id": "def05a70-01fd-4e23-b11c-00c2798deb23",
   "metadata": {},
   "outputs": [],
   "source": [
    "# Named Entity Recognition (NER)\n",
    "from nltk import ne_chunk"
   ]
  },
  {
   "cell_type": "code",
   "execution_count": 94,
   "id": "6acb809e-9833-48ee-9c8c-643fc900dfc1",
   "metadata": {},
   "outputs": [],
   "source": [
    "NE_sent = 'The AI researcher presented groundbreaking ideas at the OpenAI headquarters'\n",
    "NE_tokens = word_tokenize(NE_sent)\n",
    "NE_tags = nltk.pos_tag(NE_tokens)"
   ]
  },
  {
   "cell_type": "code",
   "execution_count": 96,
   "id": "1399041b-9591-400f-90e0-85d452c9ec4c",
   "metadata": {},
   "outputs": [
    {
     "name": "stdout",
     "output_type": "stream",
     "text": [
      "(S\n",
      "  The/DT\n",
      "  (ORGANIZATION AI/NNP)\n",
      "  researcher/NN\n",
      "  presented/VBD\n",
      "  groundbreaking/VBG\n",
      "  ideas/NNS\n",
      "  at/IN\n",
      "  the/DT\n",
      "  (ORGANIZATION OpenAI/NNP)\n",
      "  headquarters/NN)\n"
     ]
    }
   ],
   "source": [
    "# Chunking with NER\n",
    "NE_NER = ne_chunk(NE_tags)\n",
    "print(NE_NER)"
   ]
  },
  {
   "cell_type": "code",
   "execution_count": 98,
   "id": "3cf008bf-23a8-49ec-849f-a3af363dec6e",
   "metadata": {},
   "outputs": [
    {
     "data": {
      "text/plain": [
       "[('the', 'DT'),\n",
       " ('intelligent', 'JJ'),\n",
       " ('machine', 'NN'),\n",
       " ('analyzed', 'VBD'),\n",
       " ('the', 'DT'),\n",
       " ('complex', 'JJ'),\n",
       " ('data', 'NN'),\n",
       " ('that', 'WDT'),\n",
       " ('was', 'VBD'),\n",
       " ('crucial', 'JJ'),\n",
       " ('for', 'IN'),\n",
       " ('the', 'DT'),\n",
       " ('project', 'NN')]"
      ]
     },
     "execution_count": 98,
     "metadata": {},
     "output_type": "execute_result"
    }
   ],
   "source": [
    "# Another example for chunking\n",
    "new = 'the intelligent machine analyzed the complex data that was crucial for the project'\n",
    "new_tokens = nltk.pos_tag(word_tokenize(new))\n",
    "new_tokens"
   ]
  },
  {
   "cell_type": "code",
   "execution_count": 100,
   "id": "e6ea1f4a-e1d3-4efa-bd05-7da0565060ef",
   "metadata": {},
   "outputs": [],
   "source": [
    "# Libraries\n",
    "from wordcloud import WordCloud\n",
    "import matplotlib.pyplot as plt"
   ]
  },
  {
   "cell_type": "code",
   "execution_count": 102,
   "id": "914ecc9c-41f0-43cd-9641-b2ab81af9eaf",
   "metadata": {},
   "outputs": [],
   "source": [
    "# Define the text\n",
    "text = (\n",
    "    \"Python Python Python Matplotlib Matplotlib Seaborn Network Plot Violin Chart \"\n",
    "    \"Pandas Datascience Wordcloud Spider Radar Parallel Alpha Color Brewer Density \"\n",
    "    \"Scatter Barplot Boxplot Violinplot Treemap Stacked Area Chart Chart Visualization \"\n",
    "    \"Dataviz Donut Pie Time-Series Wordcloud Wordcloud Sankey Bubble\"\n",
    ")"
   ]
  },
  {
   "cell_type": "code",
   "execution_count": 104,
   "id": "fb3077b6-047b-44e3-b4ff-f19344cad620",
   "metadata": {},
   "outputs": [],
   "source": [
    "# Create the word cloud object\n",
    "wordcloud = WordCloud(\n",
    "    width=800,       # Set the width of the word cloud image\n",
    "    height=400,      # Set the height of the word cloud image\n",
    "    margin=10,       # Set margin around the word cloud\n",
    "    background_color=\"white\",  # Background color\n",
    "    colormap=\"viridis\",  # Color scheme for the words\n",
    "    random_state=42   # Seed for reproducibility\n",
    ").generate(text)"
   ]
  },
  {
   "cell_type": "code",
   "execution_count": 106,
   "id": "41913ee1-8f23-4092-ba2a-206cf4493d74",
   "metadata": {},
   "outputs": [
    {
     "data": {
      "image/png": "[encoded data removed]",
      "text/plain": [
       "<Figure size 1000x500 with 1 Axes>"
      ]
     },
     "metadata": {},
     "output_type": "display_data"
    }
   ],
   "source": [
    "# Display the generated image\n",
    "plt.figure(figsize=(10, 5))  # Adjust figure size\n",
    "plt.imshow(wordcloud, interpolation='bilinear')  # Render the word cloud\n",
    "plt.axis(\"off\")  # Turn off axes\n",
    "plt.title(\"Word Cloud Visualization\", fontsize=20)  # Add title\n",
    "plt.show()"
   ]
  },
  {
   "cell_type": "code",
   "execution_count": 108,
   "id": "91943155-b0ab-4bb7-a468-5ed39526bc61",
   "metadata": {},
   "outputs": [
    {
     "data": {
      "image/png": "[encoded data removed]",
      "text/plain": [
       "<Figure size 640x480 with 1 Axes>"
      ]
     },
     "metadata": {},
     "output_type": "display_data"
    }
   ],
   "source": [
    "# Create a list of words\n",
    "text = (\"Python Python Python Matplotlib Matplotlib Seaborn Network Plot Violin Chart Pandas Datascience Wordcloud Spider Radar Parrallel Alpha Color Brewer Density Scatter Barplot Barplot Boxplot Violinplot Treemap Stacked Area Chart Chart Visualization Dataviz Donut Pie Time-Series Wordcloud Wordcloud Sankey Bubble\")\n",
    "\n",
    "# Create the wordcloud object\n",
    "wordcloud = WordCloud(width=480, height=480, margin=0).generate(text)\n",
    "\n",
    "# Display the generated wordcloud\n",
    "plt.imshow(wordcloud, interpolation='bilinear')\n",
    "plt.axis(\"off\")\n",
    "plt.margins(x=0, y=0)\n",
    "plt.show()"
   ]
  },
  {
   "cell_type": "code",
   "execution_count": null,
   "id": "18050a23-afdf-4dbe-8cb0-de943d80321f",
   "metadata": {},
   "outputs": [],
   "source": []
  },
  {
   "cell_type": "code",
   "execution_count": null,
   "id": "c2226441-d86b-453b-9ea0-f4b6b318a3e8",
   "metadata": {},
   "outputs": [],
   "source": []
  }
 ],
 "metadata": {
  "kernelspec": {
   "display_name": "Python 3 (ipykernel)",
   "language": "python",
   "name": "python3"
  },
  "language_info": {
   "codemirror_mode": {
    "name": "ipython",
    "version": 3
   },
   "file_extension": ".py",
   "mimetype": "text/x-python",
   "name": "python",
   "nbconvert_exporter": "python",
   "pygments_lexer": "ipython3",
   "version": "3.12.4"
  }
 },
 "nbformat": 4,
 "nbformat_minor": 5
}
